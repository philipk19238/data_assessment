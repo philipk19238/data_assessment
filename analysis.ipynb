{
 "cells": [
  {
   "cell_type": "code",
   "execution_count": 18,
   "metadata": {},
   "outputs": [],
   "source": [
    "import pandas as pd\n",
    "from scipy.stats import pearsonr\n",
    "import numpy"
   ]
  },
  {
   "cell_type": "code",
   "execution_count": 58,
   "metadata": {},
   "outputs": [],
   "source": [
    "#data cleaning & wrangling\n",
    "def replace_vlc(row):\n",
    "    return int(row.split(' ')[0])\n",
    "vulcan_1 = pd.read_csv('vulcancoin-part1.csv')\n",
    "vulcan_2 = pd.read_csv('vulcancoin-part2.csv')\n",
    "total_df = pd.concat([vulcan_1, vulcan_2]).reset_index()\n",
    "total_df['tx_fee'] = total_df['tx_fee'].fillna(3)\n",
    "total_df['tx_amount'] = total_df['tx_amount'].apply(replace_vlc)"
   ]
  },
  {
   "cell_type": "code",
   "execution_count": null,
   "metadata": {},
   "outputs": [],
   "source": [
    "#pearson coefficient\n",
    "pr = pearsonr(total_df['tx_amount'], total_df['tx_fee'])"
   ]
  },
  {
   "cell_type": "code",
   "execution_count": 63,
   "metadata": {},
   "outputs": [],
   "source": [
    "#calculating value \n",
    "total = total_df[total_df['tx_from'] == 'Central Bank']['tx_amount'].sum()\n",
    "\n",
    "market_cap = 58653098.60\n",
    "\n",
    "value = market_cap/total"
   ]
  },
  {
   "cell_type": "code",
   "execution_count": null,
   "metadata": {},
   "outputs": [],
   "source": [
    "#stability index\n",
    "stability_index = 100\n",
    "first_month = total_df.iloc[0]['date'].split('-')[0]\n",
    "for i in range(len(total_df)):\n",
    "    df = total_df.iloc[i]\n",
    "    month = df['date'].split('-')[0]\n",
    "    if month != first_month:\n",
    "        stability_index += 20\n",
    "        first_month = month\n",
    "    if df['tx_from'] == 'Central Bank' and df['tx_amount'] > 200:\n",
    "        stability_index = stability_index * .99    "
   ]
  },
  {
   "cell_type": "code",
   "execution_count": 112,
   "metadata": {},
   "outputs": [],
   "source": [
    "#finding max accounts\n",
    "dic = {key:0 for key in (total_df['tx_from'].unique())}\n",
    "\n",
    "for i in range(len(total_df)):\n",
    "    df = total_df.iloc[i]\n",
    "    transaction_amount = df['tx_amount'] - df['tx_fee']\n",
    "    dic[df['tx_from']] -= transaction_amount\n",
    "    dic[df['tx_to']] += df['tx_amount']\n",
    "max_account = sorted(dic.items(), reverse=True, key=lambda item: item[1])"
   ]
  }
 ],
 "metadata": {
  "kernelspec": {
   "display_name": "Python 3",
   "language": "python",
   "name": "python3"
  },
  "language_info": {
   "codemirror_mode": {
    "name": "ipython",
    "version": 3
   },
   "file_extension": ".py",
   "mimetype": "text/x-python",
   "name": "python",
   "nbconvert_exporter": "python",
   "pygments_lexer": "ipython3",
   "version": "3.7.4"
  }
 },
 "nbformat": 4,
 "nbformat_minor": 4
}
